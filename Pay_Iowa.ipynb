{
 "cells": [
  {
   "cell_type": "markdown",
   "metadata": {},
   "source": [
    "# Iowa State Salaries 2017\n",
    "\n",
    "This visualization shows Iowa public sector salaries in 2017. The data are split between males and females. In both cases the highest concentration of workers occurs between around $50k and $80k. The numbers drop off above $100k. The histograms indicate a higher number of female workers than male. "
   ]
  },
  {
   "cell_type": "code",
   "execution_count": 2,
   "metadata": {
    "collapsed": true
   },
   "outputs": [],
   "source": [
    "import seaborn as sns"
   ]
  },
  {
   "cell_type": "code",
   "execution_count": 1,
   "metadata": {
    "collapsed": true
   },
   "outputs": [],
   "source": [
    "import pandas as pd\n",
    "import matplotlib.pyplot as plt\n",
    "plt.rcParams['figure.figsize'] = (20.0, 10.0)"
   ]
  },
  {
   "cell_type": "code",
   "execution_count": 3,
   "metadata": {},
   "outputs": [
    {
     "name": "stdout",
     "output_type": "stream",
     "text": [
      "       gender     base_sal  total_sal\n",
      "594250      F  1,786.40 BW  $36901.57\n",
      "594281      M  1,241.60 BW  $13406.40\n",
      "594343      F  1,424.80 BW  $36393.60\n",
      "594589      F  2,648.80 BW  $63864.80\n",
      "595298      M    36,566.00  $35233.34\n"
     ]
    }
   ],
   "source": [
    "sal = pd.read_csv('C://Users//fergu//State_of_Iowa_Salary_Book.csv')\n",
    "sal2 = sal[sal['Fiscal Year'] == 2017]\n",
    "sal3 = sal2[['Gender', 'Base Salary', 'Total Salary Paid']]\n",
    "sal3.columns = ['gender', 'base_sal', 'total_sal']\n",
    "#sal3['total_sal'].find('$')\n",
    "#sal3['raw_sal'] = sal3[['total_sal'][1:]]\n",
    "print(sal3.head())"
   ]
  },
  {
   "cell_type": "code",
   "execution_count": 4,
   "metadata": {
    "scrolled": false
   },
   "outputs": [
    {
     "name": "stdout",
     "output_type": "stream",
     "text": [
      "       gender     base_sal  total_sal\n",
      "594250      F  1,786.40 BW  $36901.57\n",
      "594281      M  1,241.60 BW  $13406.40\n",
      "594343      F  1,424.80 BW  $36393.60\n",
      "594589      F  2,648.80 BW  $63864.80\n",
      "595298      M    36,566.00  $35233.34\n"
     ]
    }
   ],
   "source": [
    "print(sal3.head())"
   ]
  },
  {
   "cell_type": "code",
   "execution_count": 5,
   "metadata": {
    "collapsed": true
   },
   "outputs": [],
   "source": [
    "def remove_dol_sign(yr_list):\n",
    "    for i in range(0, len(yr_list)):\n",
    "        if yr_list[i][0] == '$':\n",
    "            #return 'Correct'\n",
    "            yr_list[i] = yr_list[i][1:] #== yr_list[i][0]\n",
    "        else:\n",
    "   #         return 'Wrong'\n",
    "            yr_list[i] = yr_list[i][:]\n",
    "    return yr_list"
   ]
  },
  {
   "cell_type": "code",
   "execution_count": 6,
   "metadata": {
    "collapsed": true,
    "scrolled": true
   },
   "outputs": [],
   "source": [
    "raw_sal_l = list(sal3['total_sal'])\n",
    "raw_sal_v = remove_dol_sign(raw_sal_l)"
   ]
  },
  {
   "cell_type": "code",
   "execution_count": 7,
   "metadata": {},
   "outputs": [
    {
     "name": "stderr",
     "output_type": "stream",
     "text": [
      "C:\\Users\\fergu\\Anaconda3\\lib\\site-packages\\ipykernel_launcher.py:1: SettingWithCopyWarning: \n",
      "A value is trying to be set on a copy of a slice from a DataFrame.\n",
      "Try using .loc[row_indexer,col_indexer] = value instead\n",
      "\n",
      "See the caveats in the documentation: http://pandas.pydata.org/pandas-docs/stable/indexing.html#indexing-view-versus-copy\n",
      "  \"\"\"Entry point for launching an IPython kernel.\n"
     ]
    }
   ],
   "source": [
    "sal3['sal_val'] = raw_sal_v"
   ]
  },
  {
   "cell_type": "code",
   "execution_count": 8,
   "metadata": {
    "collapsed": true,
    "scrolled": true
   },
   "outputs": [],
   "source": [
    "def to_float(y):\n",
    "    list_final = []\n",
    "    for i in range(len(y)):\n",
    "        list_final.append(float(y[i]))\n",
    "    return list_final       "
   ]
  },
  {
   "cell_type": "code",
   "execution_count": 9,
   "metadata": {},
   "outputs": [
    {
     "name": "stderr",
     "output_type": "stream",
     "text": [
      "C:\\Users\\fergu\\Anaconda3\\lib\\site-packages\\ipykernel_launcher.py:3: SettingWithCopyWarning: \n",
      "A value is trying to be set on a copy of a slice from a DataFrame.\n",
      "Try using .loc[row_indexer,col_indexer] = value instead\n",
      "\n",
      "See the caveats in the documentation: http://pandas.pydata.org/pandas-docs/stable/indexing.html#indexing-view-versus-copy\n",
      "  This is separate from the ipykernel package so we can avoid doing imports until\n",
      "C:\\Users\\fergu\\Anaconda3\\lib\\site-packages\\ipykernel_launcher.py:4: SettingWithCopyWarning: \n",
      "A value is trying to be set on a copy of a slice from a DataFrame.\n",
      "Try using .loc[row_indexer,col_indexer] = value instead\n",
      "\n",
      "See the caveats in the documentation: http://pandas.pydata.org/pandas-docs/stable/indexing.html#indexing-view-versus-copy\n",
      "  after removing the cwd from sys.path.\n"
     ]
    }
   ],
   "source": [
    "raw_sal_float = to_float(raw_sal_v)\n",
    "raw_sal_float = to_float(raw_sal_v)\n",
    "sal3['raw_sal_num'] = raw_sal_float\n",
    "sal3['raw_sal_test'] = sal3['raw_sal_num'] + 3\n",
    "del sal3['raw_sal_test']\n",
    "#print(max(sal3['raw_sal_num']))\n"
   ]
  },
  {
   "cell_type": "code",
   "execution_count": 10,
   "metadata": {},
   "outputs": [
    {
     "name": "stdout",
     "output_type": "stream",
     "text": [
      "26159\n",
      "33154\n",
      "       gender     base_sal  total_sal   sal_val  raw_sal_num\n",
      "594281      M  1,241.60 BW  $13406.40  13406.40     13406.40\n",
      "595298      M    36,566.00  $35233.34  35233.34     35233.34\n",
      "595420      M    42,500.00  $49564.00  49564.00     49564.00\n",
      "595760      M  1,545.60 BW  $39206.96  39206.96     39206.96\n",
      "596994      M   TERMINATED  $28513.05  28513.05     28513.05\n",
      "       gender     base_sal  total_sal   sal_val  raw_sal_num\n",
      "594250      F  1,786.40 BW  $36901.57  36901.57     36901.57\n",
      "594343      F  1,424.80 BW  $36393.60  36393.60     36393.60\n",
      "594589      F  2,648.80 BW  $63864.80  63864.80     63864.80\n",
      "596006      F  3,098.40 BW  $78868.40  78868.40     78868.40\n",
      "596037      F  2,289.60 BW  $58071.68  58071.68     58071.68\n"
     ]
    }
   ],
   "source": [
    "sal4 = sal3[sal3['raw_sal_num'] < 500000]\n",
    "sal_male = sal4[sal4['gender'] == 'M']\n",
    "sal_female = sal4[sal4['gender'] == 'F']\n",
    "print(len(sal_male))\n",
    "print(len(sal_female))\n",
    "print(sal_male.head())\n",
    "print(sal_female.head())"
   ]
  },
  {
   "cell_type": "code",
   "execution_count": 11,
   "metadata": {},
   "outputs": [
    {
     "data": {
      "image/png": "[encoded data removed]",
      "text/plain": [
       "<matplotlib.figure.Figure at 0x208c9ebee10>"
      ]
     },
     "metadata": {},
     "output_type": "display_data"
    }
   ],
   "source": [
    "plt.hist(sal_male['raw_sal_num'], bins=50, color='blue', alpha=0.5)\n",
    "plt.hist(sal_female['raw_sal_num'], bins=50, color='gray', alpha=0.5)\n",
    "plt.title('2017 Iowa Public Sector Salaries ')\n",
    "plt.xlabel('Salary in USD')\n",
    "\n",
    "plt.show()"
   ]
  },
  {
   "cell_type": "code",
   "execution_count": 25,
   "metadata": {},
   "outputs": [
    {
     "data": {
      "image/png": "[encoded data removed]",
      "text/plain": [
       "<matplotlib.figure.Figure at 0x208d17e1ba8>"
      ]
     },
     "metadata": {},
     "output_type": "display_data"
    }
   ],
   "source": [
    "x = sal_male.reset_index()\n",
    "#print(x)\n",
    "#print(sal_male['raw_sal_num'].values)\n",
    "plt.boxplot(sal_male['raw_sal_num'].values)\n",
    "plt.ylim(0,200000)\n",
    "plt.show()"
   ]
  },
  {
   "cell_type": "code",
   "execution_count": null,
   "metadata": {
    "collapsed": true
   },
   "outputs": [],
   "source": []
  }
 ],
 "metadata": {
  "kernelspec": {
   "display_name": "Python 3",
   "language": "python",
   "name": "python3"
  },
  "language_info": {
   "codemirror_mode": {
    "name": "ipython",
    "version": 3
   },
   "file_extension": ".py",
   "mimetype": "text/x-python",
   "name": "python",
   "nbconvert_exporter": "python",
   "pygments_lexer": "ipython3",
   "version": "3.6.2"
  }
 },
 "nbformat": 4,
 "nbformat_minor": 2
}
